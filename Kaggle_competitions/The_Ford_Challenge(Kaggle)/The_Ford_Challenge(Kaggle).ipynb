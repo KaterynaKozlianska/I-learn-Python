{
 "cells": [
  {
   "cell_type": "markdown",
   "metadata": {},
   "source": [
    "# Stay Alert! The Ford Challenge\n",
    "\n",
    "Kaggle: https://www.kaggle.com/c/stayalert\n",
    "\n",
    "Driving while not alert can be deadly. The objective is to design a classifier that will detect whether the driver is alert or not alert, employing data that are acquired while driving.\n",
    "\n",
    "Driving while distracted, fatigued or drowsy may lead to accidents. Activities that divert the driver's attention from the road ahead, such as engaging in a conversation with other passengers in the car, making or receiving phone calls, sending or receiving text messages, eating while driving or events outside the car may cause driver distraction. Fatigue and drowsiness can result from driving long hours or from lack of sleep."
   ]
  },
  {
   "cell_type": "markdown",
   "metadata": {},
   "source": [
    "#### Data Description\n",
    "The data for this challenge shows the results of a number of \"trials\", each one representing about 2 minutes of sequential data that are recorded every 100 ms during a driving session on the road or in a driving simulator.  The trials are samples from some 100 drivers of both genders, and of different ages and ethnic backgrounds. The files are structured as follows:\n",
    "\n",
    "Note:  The actual names and measurement units of the physiological, environmental and vehicular data are not disclosed in this challenge. Models which use fewer physiological variables (columns with names starting with 'P') are of particular interest, therefore competitors are encouraged to consider models which require fewer of these variables."
   ]
  },
  {
   "cell_type": "code",
   "execution_count": 1,
   "metadata": {},
   "outputs": [
    {
     "name": "stdout",
     "output_type": "stream",
     "text": [
      "Populating the interactive namespace from numpy and matplotlib\n"
     ]
    }
   ],
   "source": [
    "import warnings\n",
    "warnings.filterwarnings('ignore')\n",
    "\n",
    "import pandas as pd\n",
    "import numpy as np\n",
    "from sklearn import model_selection, ensemble, preprocessing, pipeline, metrics, linear_model\n",
    "from matplotlib import pyplot as plt\n",
    "import xgboost as xgb\n",
    "%pylab inline"
   ]
  },
  {
   "cell_type": "markdown",
   "metadata": {},
   "source": [
    "## Загрузка данных"
   ]
  },
  {
   "cell_type": "code",
   "execution_count": 2,
   "metadata": {},
   "outputs": [
    {
     "data": {
      "text/html": [
       "<div>\n",
       "<style scoped>\n",
       "    .dataframe tbody tr th:only-of-type {\n",
       "        vertical-align: middle;\n",
       "    }\n",
       "\n",
       "    .dataframe tbody tr th {\n",
       "        vertical-align: top;\n",
       "    }\n",
       "\n",
       "    .dataframe thead th {\n",
       "        text-align: right;\n",
       "    }\n",
       "</style>\n",
       "<table border=\"1\" class=\"dataframe\">\n",
       "  <thead>\n",
       "    <tr style=\"text-align: right;\">\n",
       "      <th></th>\n",
       "      <th>TrialID</th>\n",
       "      <th>ObsNum</th>\n",
       "      <th>IsAlert</th>\n",
       "      <th>P1</th>\n",
       "      <th>P2</th>\n",
       "      <th>P3</th>\n",
       "      <th>P4</th>\n",
       "      <th>P5</th>\n",
       "      <th>P6</th>\n",
       "      <th>P7</th>\n",
       "      <th>...</th>\n",
       "      <th>V2</th>\n",
       "      <th>V3</th>\n",
       "      <th>V4</th>\n",
       "      <th>V5</th>\n",
       "      <th>V6</th>\n",
       "      <th>V7</th>\n",
       "      <th>V8</th>\n",
       "      <th>V9</th>\n",
       "      <th>V10</th>\n",
       "      <th>V11</th>\n",
       "    </tr>\n",
       "  </thead>\n",
       "  <tbody>\n",
       "    <tr>\n",
       "      <th>0</th>\n",
       "      <td>0</td>\n",
       "      <td>0</td>\n",
       "      <td>0</td>\n",
       "      <td>34.7406</td>\n",
       "      <td>9.84593</td>\n",
       "      <td>1400</td>\n",
       "      <td>42.8571</td>\n",
       "      <td>0.290601</td>\n",
       "      <td>572</td>\n",
       "      <td>104.895</td>\n",
       "      <td>...</td>\n",
       "      <td>0.175</td>\n",
       "      <td>752</td>\n",
       "      <td>5.99375</td>\n",
       "      <td>0</td>\n",
       "      <td>2005</td>\n",
       "      <td>0</td>\n",
       "      <td>13.4</td>\n",
       "      <td>0</td>\n",
       "      <td>4</td>\n",
       "      <td>14.8004</td>\n",
       "    </tr>\n",
       "    <tr>\n",
       "      <th>1</th>\n",
       "      <td>0</td>\n",
       "      <td>1</td>\n",
       "      <td>0</td>\n",
       "      <td>34.4215</td>\n",
       "      <td>13.41120</td>\n",
       "      <td>1400</td>\n",
       "      <td>42.8571</td>\n",
       "      <td>0.290601</td>\n",
       "      <td>572</td>\n",
       "      <td>104.895</td>\n",
       "      <td>...</td>\n",
       "      <td>0.455</td>\n",
       "      <td>752</td>\n",
       "      <td>5.99375</td>\n",
       "      <td>0</td>\n",
       "      <td>2007</td>\n",
       "      <td>0</td>\n",
       "      <td>13.4</td>\n",
       "      <td>0</td>\n",
       "      <td>4</td>\n",
       "      <td>14.7729</td>\n",
       "    </tr>\n",
       "    <tr>\n",
       "      <th>2</th>\n",
       "      <td>0</td>\n",
       "      <td>2</td>\n",
       "      <td>0</td>\n",
       "      <td>34.3447</td>\n",
       "      <td>15.18520</td>\n",
       "      <td>1400</td>\n",
       "      <td>42.8571</td>\n",
       "      <td>0.290601</td>\n",
       "      <td>576</td>\n",
       "      <td>104.167</td>\n",
       "      <td>...</td>\n",
       "      <td>0.280</td>\n",
       "      <td>752</td>\n",
       "      <td>5.99375</td>\n",
       "      <td>0</td>\n",
       "      <td>2011</td>\n",
       "      <td>0</td>\n",
       "      <td>13.4</td>\n",
       "      <td>0</td>\n",
       "      <td>4</td>\n",
       "      <td>14.7736</td>\n",
       "    </tr>\n",
       "    <tr>\n",
       "      <th>3</th>\n",
       "      <td>0</td>\n",
       "      <td>3</td>\n",
       "      <td>0</td>\n",
       "      <td>34.3421</td>\n",
       "      <td>8.84696</td>\n",
       "      <td>1400</td>\n",
       "      <td>42.8571</td>\n",
       "      <td>0.290601</td>\n",
       "      <td>576</td>\n",
       "      <td>104.167</td>\n",
       "      <td>...</td>\n",
       "      <td>0.070</td>\n",
       "      <td>752</td>\n",
       "      <td>5.99375</td>\n",
       "      <td>0</td>\n",
       "      <td>2015</td>\n",
       "      <td>0</td>\n",
       "      <td>13.4</td>\n",
       "      <td>0</td>\n",
       "      <td>4</td>\n",
       "      <td>14.7667</td>\n",
       "    </tr>\n",
       "    <tr>\n",
       "      <th>4</th>\n",
       "      <td>0</td>\n",
       "      <td>4</td>\n",
       "      <td>0</td>\n",
       "      <td>34.3322</td>\n",
       "      <td>14.69940</td>\n",
       "      <td>1400</td>\n",
       "      <td>42.8571</td>\n",
       "      <td>0.290601</td>\n",
       "      <td>576</td>\n",
       "      <td>104.167</td>\n",
       "      <td>...</td>\n",
       "      <td>0.175</td>\n",
       "      <td>752</td>\n",
       "      <td>5.99375</td>\n",
       "      <td>0</td>\n",
       "      <td>2017</td>\n",
       "      <td>0</td>\n",
       "      <td>13.4</td>\n",
       "      <td>0</td>\n",
       "      <td>4</td>\n",
       "      <td>14.7757</td>\n",
       "    </tr>\n",
       "  </tbody>\n",
       "</table>\n",
       "<p>5 rows × 33 columns</p>\n",
       "</div>"
      ],
      "text/plain": [
       "   TrialID  ObsNum  IsAlert       P1        P2    P3       P4        P5   P6  \\\n",
       "0        0       0        0  34.7406   9.84593  1400  42.8571  0.290601  572   \n",
       "1        0       1        0  34.4215  13.41120  1400  42.8571  0.290601  572   \n",
       "2        0       2        0  34.3447  15.18520  1400  42.8571  0.290601  576   \n",
       "3        0       3        0  34.3421   8.84696  1400  42.8571  0.290601  576   \n",
       "4        0       4        0  34.3322  14.69940  1400  42.8571  0.290601  576   \n",
       "\n",
       "        P7  ...     V2   V3       V4  V5    V6  V7    V8  V9  V10      V11  \n",
       "0  104.895  ...  0.175  752  5.99375   0  2005   0  13.4   0    4  14.8004  \n",
       "1  104.895  ...  0.455  752  5.99375   0  2007   0  13.4   0    4  14.7729  \n",
       "2  104.167  ...  0.280  752  5.99375   0  2011   0  13.4   0    4  14.7736  \n",
       "3  104.167  ...  0.070  752  5.99375   0  2015   0  13.4   0    4  14.7667  \n",
       "4  104.167  ...  0.175  752  5.99375   0  2017   0  13.4   0    4  14.7757  \n",
       "\n",
       "[5 rows x 33 columns]"
      ]
     },
     "execution_count": 2,
     "metadata": {},
     "output_type": "execute_result"
    }
   ],
   "source": [
    "dataset=pd.read_csv('fordTrain.csv')\n",
    "dataset.head()"
   ]
  },
  {
   "cell_type": "markdown",
   "metadata": {},
   "source": [
    "__Trial ID__ - each period of around 2 minutes of sequential data has a unique trial ID. For instance, the first 1210 observations represent sequential observations every 100ms, and therefore all have the same trial ID\n",
    "\n",
    "__ObsNum__ - this is a sequentially increasing number within one trial ID\n",
    "\n",
    "__IsAlert__ -column has a value X for each row where\n",
    "               X = 1     if the driver is alert\n",
    "               X = 0     if the driver is not alert\n",
    "               \n",
    "__P1, P2 , …….., P8__ - represent physiological data;\n",
    "\n",
    "__E1, E2, …….., E11__ - represent environmental data;\n",
    "\n",
    "__V1, V2, …….., V11__ - represent vehicular  data;\n",
    " "
   ]
  },
  {
   "cell_type": "code",
   "execution_count": 3,
   "metadata": {},
   "outputs": [
    {
     "data": {
      "text/plain": [
       "(604329, 33)"
      ]
     },
     "execution_count": 3,
     "metadata": {},
     "output_type": "execute_result"
    }
   ],
   "source": [
    "dataset.shape"
   ]
  },
  {
   "cell_type": "code",
   "execution_count": 4,
   "metadata": {},
   "outputs": [
    {
     "data": {
      "text/plain": [
       "False"
      ]
     },
     "execution_count": 4,
     "metadata": {},
     "output_type": "execute_result"
    }
   ],
   "source": [
    "dataset.isnull().values.any()"
   ]
  },
  {
   "cell_type": "markdown",
   "metadata": {},
   "source": [
    "## Предобработка данных\n",
    "### Типы признаков"
   ]
  },
  {
   "cell_type": "code",
   "execution_count": 5,
   "metadata": {},
   "outputs": [
    {
     "name": "stdout",
     "output_type": "stream",
     "text": [
      "<class 'pandas.core.frame.DataFrame'>\n",
      "RangeIndex: 604329 entries, 0 to 604328\n",
      "Data columns (total 33 columns):\n",
      "TrialID    604329 non-null int64\n",
      "ObsNum     604329 non-null int64\n",
      "IsAlert    604329 non-null int64\n",
      "P1         604329 non-null float64\n",
      "P2         604329 non-null float64\n",
      "P3         604329 non-null int64\n",
      "P4         604329 non-null float64\n",
      "P5         604329 non-null float64\n",
      "P6         604329 non-null int64\n",
      "P7         604329 non-null float64\n",
      "P8         604329 non-null int64\n",
      "E1         604329 non-null float64\n",
      "E2         604329 non-null float64\n",
      "E3         604329 non-null int64\n",
      "E4         604329 non-null int64\n",
      "E5         604329 non-null float64\n",
      "E6         604329 non-null int64\n",
      "E7         604329 non-null int64\n",
      "E8         604329 non-null int64\n",
      "E9         604329 non-null int64\n",
      "E10        604329 non-null int64\n",
      "E11        604329 non-null float64\n",
      "V1         604329 non-null float64\n",
      "V2         604329 non-null float64\n",
      "V3         604329 non-null int64\n",
      "V4         604329 non-null float64\n",
      "V5         604329 non-null int64\n",
      "V6         604329 non-null int64\n",
      "V7         604329 non-null int64\n",
      "V8         604329 non-null float64\n",
      "V9         604329 non-null int64\n",
      "V10        604329 non-null int64\n",
      "V11        604329 non-null float64\n",
      "dtypes: float64(14), int64(19)\n",
      "memory usage: 152.2 MB\n"
     ]
    }
   ],
   "source": [
    "dataset.info()"
   ]
  },
  {
   "cell_type": "markdown",
   "metadata": {},
   "source": [
    "### Оценка корреляционной зависимости"
   ]
  },
  {
   "cell_type": "code",
   "execution_count": 6,
   "metadata": {},
   "outputs": [
    {
     "data": {
      "text/html": [
       "<div>\n",
       "<style scoped>\n",
       "    .dataframe tbody tr th:only-of-type {\n",
       "        vertical-align: middle;\n",
       "    }\n",
       "\n",
       "    .dataframe tbody tr th {\n",
       "        vertical-align: top;\n",
       "    }\n",
       "\n",
       "    .dataframe thead th {\n",
       "        text-align: right;\n",
       "    }\n",
       "</style>\n",
       "<table border=\"1\" class=\"dataframe\">\n",
       "  <thead>\n",
       "    <tr style=\"text-align: right;\">\n",
       "      <th></th>\n",
       "      <th>IsAlert</th>\n",
       "    </tr>\n",
       "  </thead>\n",
       "  <tbody>\n",
       "    <tr>\n",
       "      <th>E7</th>\n",
       "      <td>-0.329722</td>\n",
       "    </tr>\n",
       "    <tr>\n",
       "      <th>E8</th>\n",
       "      <td>-0.283440</td>\n",
       "    </tr>\n",
       "    <tr>\n",
       "      <th>V1</th>\n",
       "      <td>-0.269967</td>\n",
       "    </tr>\n",
       "    <tr>\n",
       "      <th>V10</th>\n",
       "      <td>-0.259607</td>\n",
       "    </tr>\n",
       "    <tr>\n",
       "      <th>V6</th>\n",
       "      <td>-0.244150</td>\n",
       "    </tr>\n",
       "    <tr>\n",
       "      <th>E6</th>\n",
       "      <td>-0.189198</td>\n",
       "    </tr>\n",
       "    <tr>\n",
       "      <th>V8</th>\n",
       "      <td>-0.165550</td>\n",
       "    </tr>\n",
       "    <tr>\n",
       "      <th>E1</th>\n",
       "      <td>-0.160830</td>\n",
       "    </tr>\n",
       "    <tr>\n",
       "      <th>TrialID</th>\n",
       "      <td>-0.145816</td>\n",
       "    </tr>\n",
       "    <tr>\n",
       "      <th>E2</th>\n",
       "      <td>-0.105495</td>\n",
       "    </tr>\n",
       "    <tr>\n",
       "      <th>E5</th>\n",
       "      <td>-0.067453</td>\n",
       "    </tr>\n",
       "    <tr>\n",
       "      <th>E10</th>\n",
       "      <td>-0.067051</td>\n",
       "    </tr>\n",
       "    <tr>\n",
       "      <th>V3</th>\n",
       "      <td>-0.062000</td>\n",
       "    </tr>\n",
       "    <tr>\n",
       "      <th>V2</th>\n",
       "      <td>-0.050740</td>\n",
       "    </tr>\n",
       "    <tr>\n",
       "      <th>P4</th>\n",
       "      <td>-0.008177</td>\n",
       "    </tr>\n",
       "    <tr>\n",
       "      <th>ObsNum</th>\n",
       "      <td>-0.005143</td>\n",
       "    </tr>\n",
       "    <tr>\n",
       "      <th>P6</th>\n",
       "      <td>-0.000400</td>\n",
       "    </tr>\n",
       "    <tr>\n",
       "      <th>P3</th>\n",
       "      <td>0.005168</td>\n",
       "    </tr>\n",
       "    <tr>\n",
       "      <th>P2</th>\n",
       "      <td>0.014383</td>\n",
       "    </tr>\n",
       "    <tr>\n",
       "      <th>P1</th>\n",
       "      <td>0.018361</td>\n",
       "    </tr>\n",
       "    <tr>\n",
       "      <th>P5</th>\n",
       "      <td>0.038160</td>\n",
       "    </tr>\n",
       "    <tr>\n",
       "      <th>E4</th>\n",
       "      <td>0.047992</td>\n",
       "    </tr>\n",
       "    <tr>\n",
       "      <th>V5</th>\n",
       "      <td>0.055429</td>\n",
       "    </tr>\n",
       "    <tr>\n",
       "      <th>E11</th>\n",
       "      <td>0.079002</td>\n",
       "    </tr>\n",
       "    <tr>\n",
       "      <th>V4</th>\n",
       "      <td>0.097022</td>\n",
       "    </tr>\n",
       "    <tr>\n",
       "      <th>V11</th>\n",
       "      <td>0.155722</td>\n",
       "    </tr>\n",
       "    <tr>\n",
       "      <th>E3</th>\n",
       "      <td>0.157973</td>\n",
       "    </tr>\n",
       "    <tr>\n",
       "      <th>P7</th>\n",
       "      <td>0.189796</td>\n",
       "    </tr>\n",
       "    <tr>\n",
       "      <th>E9</th>\n",
       "      <td>0.380353</td>\n",
       "    </tr>\n",
       "    <tr>\n",
       "      <th>P8</th>\n",
       "      <td>NaN</td>\n",
       "    </tr>\n",
       "    <tr>\n",
       "      <th>V7</th>\n",
       "      <td>NaN</td>\n",
       "    </tr>\n",
       "    <tr>\n",
       "      <th>V9</th>\n",
       "      <td>NaN</td>\n",
       "    </tr>\n",
       "  </tbody>\n",
       "</table>\n",
       "</div>"
      ],
      "text/plain": [
       "          IsAlert\n",
       "E7      -0.329722\n",
       "E8      -0.283440\n",
       "V1      -0.269967\n",
       "V10     -0.259607\n",
       "V6      -0.244150\n",
       "E6      -0.189198\n",
       "V8      -0.165550\n",
       "E1      -0.160830\n",
       "TrialID -0.145816\n",
       "E2      -0.105495\n",
       "E5      -0.067453\n",
       "E10     -0.067051\n",
       "V3      -0.062000\n",
       "V2      -0.050740\n",
       "P4      -0.008177\n",
       "ObsNum  -0.005143\n",
       "P6      -0.000400\n",
       "P3       0.005168\n",
       "P2       0.014383\n",
       "P1       0.018361\n",
       "P5       0.038160\n",
       "E4       0.047992\n",
       "V5       0.055429\n",
       "E11      0.079002\n",
       "V4       0.097022\n",
       "V11      0.155722\n",
       "E3       0.157973\n",
       "P7       0.189796\n",
       "E9       0.380353\n",
       "P8            NaN\n",
       "V7            NaN\n",
       "V9            NaN"
      ]
     },
     "execution_count": 6,
     "metadata": {},
     "output_type": "execute_result"
    }
   ],
   "source": [
    "corr=pd.DataFrame(dataset.drop('IsAlert', axis=1)).corrwith(dataset['IsAlert'])\n",
    "corr=pd.DataFrame(corr)\n",
    "corr.columns=['IsAlert']\n",
    "corr.sort_values('IsAlert')"
   ]
  },
  {
   "cell_type": "markdown",
   "metadata": {},
   "source": [
    "Корреляционная связь с целевой меткой очень слабая, поэтому задачу нельзя решать линейными способами. \n",
    "Существует сильная корреляция между некоторыми признаками:\n",
    "- P3 & P4\n",
    "- E1 & E2\n",
    "- E7 & E8\n",
    "- E7 & E9\n",
    "- V1 & V6 & V10\n",
    "- V6 & V8\n",
    "\n",
    "Также в данных отсутсвуют значения для следующих признаков: P8, V7, V9.\n",
    "\n",
    "Но, забегая наперед, для конкретной задачи удаление коррелирующих признаков не будет иметь положительного влияния на итоговый результат."
   ]
  },
  {
   "cell_type": "markdown",
   "metadata": {},
   "source": [
    "### Оценка выборки"
   ]
  },
  {
   "cell_type": "code",
   "execution_count": 7,
   "metadata": {},
   "outputs": [],
   "source": [
    "data=dataset.drop('IsAlert', axis=1)\n",
    "labels=dataset['IsAlert'].values"
   ]
  },
  {
   "cell_type": "code",
   "execution_count": 8,
   "metadata": {},
   "outputs": [
    {
     "name": "stdout",
     "output_type": "stream",
     "text": [
      "train: \n",
      " class:1 0.5787984423435448\n",
      "class:0 0.42120155765645517\n",
      "test: \n",
      " class:1 0.5787991896574955\n",
      "class:0 0.42120081034250445\n"
     ]
    }
   ],
   "source": [
    "# Стратификация выборки\n",
    "train_data, test_data, train_labels, test_labels=model_selection.train_test_split(\n",
    "    data, labels, test_size=0.7, random_state=0, stratify=labels)\n",
    "\n",
    "print ('train:', '\\n', 'class:1', ((np.sum(train_labels==1))/(len(train_labels))))\n",
    "print ('class:0', (1-(np.sum(train_labels==1))/(len(train_labels))))\n",
    "\n",
    "print ('test:', '\\n', 'class:1', ((np.sum(test_labels==1))/(len(test_labels))))\n",
    "print ('class:0', (1-(np.sum(test_labels==1))/(len(test_labels))))"
   ]
  },
  {
   "cell_type": "code",
   "execution_count": 9,
   "metadata": {},
   "outputs": [
    {
     "name": "stdout",
     "output_type": "stream",
     "text": [
      "class:1 0.578798965464176\n",
      "class:0 0.421201034535824\n"
     ]
    }
   ],
   "source": [
    "# Балансировка выборки\n",
    "\n",
    "print ('class:1', ((np.sum(labels==1))/(len(labels))))\n",
    "print ('class:0', (1-(np.sum(labels==1))/(len(labels))))"
   ]
  },
  {
   "cell_type": "markdown",
   "metadata": {},
   "source": [
    "Соотношение первого и нулевого класса примерно одинаковое, поэтому балансировку выборки проводить не нужно"
   ]
  },
  {
   "cell_type": "markdown",
   "metadata": {},
   "source": [
    "## Применение модели XGBClassifier\n",
    "Данные разной величины. Поэтому необходимо провести масштабирование"
   ]
  },
  {
   "cell_type": "code",
   "execution_count": 10,
   "metadata": {},
   "outputs": [],
   "source": [
    "estimator = xgb.XGBClassifier(learning_rate=0.1, n_estimators=10, max_depth=3, min_child_weight=3)\n",
    "estimator=pipeline.Pipeline(steps=[('scaling', preprocessing.StandardScaler()), ('classification', estimator)])"
   ]
  },
  {
   "cell_type": "code",
   "execution_count": 11,
   "metadata": {},
   "outputs": [
    {
     "name": "stdout",
     "output_type": "stream",
     "text": [
      "Wall time: 2.66 s\n"
     ]
    },
    {
     "data": {
      "text/plain": [
       "Pipeline(memory=None,\n",
       "         steps=[('scaling',\n",
       "                 StandardScaler(copy=True, with_mean=True, with_std=True)),\n",
       "                ('classification',\n",
       "                 XGBClassifier(base_score=0.5, booster='gbtree',\n",
       "                               colsample_bylevel=1, colsample_bynode=1,\n",
       "                               colsample_bytree=1, gamma=0, learning_rate=0.1,\n",
       "                               max_delta_step=0, max_depth=3,\n",
       "                               min_child_weight=3, missing=None,\n",
       "                               n_estimators=10, n_jobs=1, nthread=None,\n",
       "                               objective='binary:logistic', random_state=0,\n",
       "                               reg_alpha=0, reg_lambda=1, scale_pos_weight=1,\n",
       "                               seed=None, silent=None, subsample=1,\n",
       "                               verbosity=1))],\n",
       "         verbose=False)"
      ]
     },
     "execution_count": 11,
     "metadata": {},
     "output_type": "execute_result"
    }
   ],
   "source": [
    "%%time\n",
    "estimator.fit(train_data, train_labels)"
   ]
  },
  {
   "cell_type": "code",
   "execution_count": 12,
   "metadata": {},
   "outputs": [
    {
     "data": {
      "text/plain": [
       "0.1490812730036333"
      ]
     },
     "execution_count": 12,
     "metadata": {},
     "output_type": "execute_result"
    }
   ],
   "source": [
    "score=metrics.mean_squared_error(test_labels, estimator.predict(test_data))\n",
    "score"
   ]
  },
  {
   "cell_type": "code",
   "execution_count": 13,
   "metadata": {},
   "outputs": [
    {
     "data": {
      "text/plain": [
       "array([[124540,  53641],\n",
       "       [  9425, 235425]], dtype=int64)"
      ]
     },
     "execution_count": 13,
     "metadata": {},
     "output_type": "execute_result"
    }
   ],
   "source": [
    "score_matrix=metrics.confusion_matrix(test_labels, estimator.predict(test_data))\n",
    "score_matrix"
   ]
  },
  {
   "cell_type": "code",
   "execution_count": 14,
   "metadata": {},
   "outputs": [
    {
     "data": {
      "text/plain": [
       "0.8509187269963667"
      ]
     },
     "execution_count": 14,
     "metadata": {},
     "output_type": "execute_result"
    }
   ],
   "source": [
    "score_accuracy=metrics.accuracy_score(test_labels, estimator.predict(test_data))\n",
    "score_accuracy"
   ]
  },
  {
   "cell_type": "code",
   "execution_count": 15,
   "metadata": {},
   "outputs": [
    {
     "name": "stdout",
     "output_type": "stream",
     "text": [
      "              precision    recall  f1-score   support\n",
      "\n",
      "           0       0.93      0.70      0.80    178181\n",
      "           1       0.81      0.96      0.88    244850\n",
      "\n",
      "    accuracy                           0.85    423031\n",
      "   macro avg       0.87      0.83      0.84    423031\n",
      "weighted avg       0.86      0.85      0.85    423031\n",
      "\n"
     ]
    }
   ],
   "source": [
    "report=metrics.classification_report(test_labels, estimator.predict(test_data))\n",
    "print(report)"
   ]
  },
  {
   "cell_type": "markdown",
   "metadata": {},
   "source": [
    "## Посроение прогноза на тестовой выборке\n",
    "### Преподготовка данных"
   ]
  },
  {
   "cell_type": "code",
   "execution_count": 16,
   "metadata": {},
   "outputs": [],
   "source": [
    "# тестовая выборка\n",
    "dataset_test=pd.read_csv('fordTest.csv')"
   ]
  },
  {
   "cell_type": "code",
   "execution_count": 17,
   "metadata": {},
   "outputs": [
    {
     "data": {
      "text/html": [
       "<div>\n",
       "<style scoped>\n",
       "    .dataframe tbody tr th:only-of-type {\n",
       "        vertical-align: middle;\n",
       "    }\n",
       "\n",
       "    .dataframe tbody tr th {\n",
       "        vertical-align: top;\n",
       "    }\n",
       "\n",
       "    .dataframe thead th {\n",
       "        text-align: right;\n",
       "    }\n",
       "</style>\n",
       "<table border=\"1\" class=\"dataframe\">\n",
       "  <thead>\n",
       "    <tr style=\"text-align: right;\">\n",
       "      <th></th>\n",
       "      <th>TrialID</th>\n",
       "      <th>ObsNum</th>\n",
       "      <th>IsAlert</th>\n",
       "      <th>P1</th>\n",
       "      <th>P2</th>\n",
       "      <th>P3</th>\n",
       "      <th>P4</th>\n",
       "      <th>P5</th>\n",
       "      <th>P6</th>\n",
       "      <th>P7</th>\n",
       "      <th>...</th>\n",
       "      <th>V2</th>\n",
       "      <th>V3</th>\n",
       "      <th>V4</th>\n",
       "      <th>V5</th>\n",
       "      <th>V6</th>\n",
       "      <th>V7</th>\n",
       "      <th>V8</th>\n",
       "      <th>V9</th>\n",
       "      <th>V10</th>\n",
       "      <th>V11</th>\n",
       "    </tr>\n",
       "  </thead>\n",
       "  <tbody>\n",
       "    <tr>\n",
       "      <th>0</th>\n",
       "      <td>0</td>\n",
       "      <td>0</td>\n",
       "      <td>?</td>\n",
       "      <td>38.4294</td>\n",
       "      <td>10.9435</td>\n",
       "      <td>1000</td>\n",
       "      <td>60.0</td>\n",
       "      <td>0.302277</td>\n",
       "      <td>508</td>\n",
       "      <td>118.110</td>\n",
       "      <td>...</td>\n",
       "      <td>0.00</td>\n",
       "      <td>255</td>\n",
       "      <td>4.50625</td>\n",
       "      <td>0</td>\n",
       "      <td>2127</td>\n",
       "      <td>0</td>\n",
       "      <td>17.6</td>\n",
       "      <td>0</td>\n",
       "      <td>4</td>\n",
       "      <td>16.1937</td>\n",
       "    </tr>\n",
       "    <tr>\n",
       "      <th>1</th>\n",
       "      <td>0</td>\n",
       "      <td>1</td>\n",
       "      <td>?</td>\n",
       "      <td>38.3609</td>\n",
       "      <td>15.3212</td>\n",
       "      <td>1000</td>\n",
       "      <td>60.0</td>\n",
       "      <td>0.302277</td>\n",
       "      <td>508</td>\n",
       "      <td>118.110</td>\n",
       "      <td>...</td>\n",
       "      <td>0.00</td>\n",
       "      <td>255</td>\n",
       "      <td>4.50625</td>\n",
       "      <td>0</td>\n",
       "      <td>2127</td>\n",
       "      <td>0</td>\n",
       "      <td>17.6</td>\n",
       "      <td>0</td>\n",
       "      <td>4</td>\n",
       "      <td>16.1744</td>\n",
       "    </tr>\n",
       "    <tr>\n",
       "      <th>2</th>\n",
       "      <td>0</td>\n",
       "      <td>2</td>\n",
       "      <td>?</td>\n",
       "      <td>38.2342</td>\n",
       "      <td>11.5140</td>\n",
       "      <td>1000</td>\n",
       "      <td>60.0</td>\n",
       "      <td>0.302277</td>\n",
       "      <td>508</td>\n",
       "      <td>118.110</td>\n",
       "      <td>...</td>\n",
       "      <td>0.07</td>\n",
       "      <td>255</td>\n",
       "      <td>4.50625</td>\n",
       "      <td>0</td>\n",
       "      <td>2131</td>\n",
       "      <td>0</td>\n",
       "      <td>17.6</td>\n",
       "      <td>0</td>\n",
       "      <td>4</td>\n",
       "      <td>16.1602</td>\n",
       "    </tr>\n",
       "    <tr>\n",
       "      <th>3</th>\n",
       "      <td>0</td>\n",
       "      <td>3</td>\n",
       "      <td>?</td>\n",
       "      <td>37.9304</td>\n",
       "      <td>12.2615</td>\n",
       "      <td>1000</td>\n",
       "      <td>60.0</td>\n",
       "      <td>0.302277</td>\n",
       "      <td>508</td>\n",
       "      <td>118.110</td>\n",
       "      <td>...</td>\n",
       "      <td>0.07</td>\n",
       "      <td>255</td>\n",
       "      <td>4.50625</td>\n",
       "      <td>0</td>\n",
       "      <td>2131</td>\n",
       "      <td>0</td>\n",
       "      <td>17.6</td>\n",
       "      <td>0</td>\n",
       "      <td>4</td>\n",
       "      <td>16.1725</td>\n",
       "    </tr>\n",
       "    <tr>\n",
       "      <th>4</th>\n",
       "      <td>0</td>\n",
       "      <td>4</td>\n",
       "      <td>?</td>\n",
       "      <td>37.8085</td>\n",
       "      <td>12.3666</td>\n",
       "      <td>1000</td>\n",
       "      <td>60.0</td>\n",
       "      <td>0.302277</td>\n",
       "      <td>504</td>\n",
       "      <td>119.048</td>\n",
       "      <td>...</td>\n",
       "      <td>0.00</td>\n",
       "      <td>255</td>\n",
       "      <td>4.50625</td>\n",
       "      <td>0</td>\n",
       "      <td>2136</td>\n",
       "      <td>0</td>\n",
       "      <td>17.6</td>\n",
       "      <td>0</td>\n",
       "      <td>4</td>\n",
       "      <td>16.1459</td>\n",
       "    </tr>\n",
       "  </tbody>\n",
       "</table>\n",
       "<p>5 rows × 33 columns</p>\n",
       "</div>"
      ],
      "text/plain": [
       "   TrialID  ObsNum IsAlert       P1       P2    P3    P4        P5   P6  \\\n",
       "0        0       0       ?  38.4294  10.9435  1000  60.0  0.302277  508   \n",
       "1        0       1       ?  38.3609  15.3212  1000  60.0  0.302277  508   \n",
       "2        0       2       ?  38.2342  11.5140  1000  60.0  0.302277  508   \n",
       "3        0       3       ?  37.9304  12.2615  1000  60.0  0.302277  508   \n",
       "4        0       4       ?  37.8085  12.3666  1000  60.0  0.302277  504   \n",
       "\n",
       "        P7  ...    V2   V3       V4  V5    V6  V7    V8  V9  V10      V11  \n",
       "0  118.110  ...  0.00  255  4.50625   0  2127   0  17.6   0    4  16.1937  \n",
       "1  118.110  ...  0.00  255  4.50625   0  2127   0  17.6   0    4  16.1744  \n",
       "2  118.110  ...  0.07  255  4.50625   0  2131   0  17.6   0    4  16.1602  \n",
       "3  118.110  ...  0.07  255  4.50625   0  2131   0  17.6   0    4  16.1725  \n",
       "4  119.048  ...  0.00  255  4.50625   0  2136   0  17.6   0    4  16.1459  \n",
       "\n",
       "[5 rows x 33 columns]"
      ]
     },
     "execution_count": 17,
     "metadata": {},
     "output_type": "execute_result"
    }
   ],
   "source": [
    "dataset_test.head()"
   ]
  },
  {
   "cell_type": "code",
   "execution_count": 18,
   "metadata": {},
   "outputs": [
    {
     "name": "stdout",
     "output_type": "stream",
     "text": [
      "<class 'pandas.core.frame.DataFrame'>\n",
      "RangeIndex: 120840 entries, 0 to 120839\n",
      "Data columns (total 33 columns):\n",
      "TrialID    120840 non-null int64\n",
      "ObsNum     120840 non-null int64\n",
      "IsAlert    120840 non-null object\n",
      "P1         120840 non-null float64\n",
      "P2         120840 non-null float64\n",
      "P3         120840 non-null int64\n",
      "P4         120840 non-null float64\n",
      "P5         120840 non-null float64\n",
      "P6         120840 non-null int64\n",
      "P7         120840 non-null float64\n",
      "P8         120840 non-null int64\n",
      "E1         120840 non-null float64\n",
      "E2         120840 non-null float64\n",
      "E3         120840 non-null int64\n",
      "E4         120840 non-null int64\n",
      "E5         120840 non-null float64\n",
      "E6         120840 non-null int64\n",
      "E7         120840 non-null int64\n",
      "E8         120840 non-null int64\n",
      "E9         120840 non-null int64\n",
      "E10        120840 non-null int64\n",
      "E11        120840 non-null float64\n",
      "V1         120840 non-null float64\n",
      "V2         120840 non-null float64\n",
      "V3         120840 non-null int64\n",
      "V4         120840 non-null float64\n",
      "V5         120840 non-null int64\n",
      "V6         120840 non-null int64\n",
      "V7         120840 non-null int64\n",
      "V8         120840 non-null float64\n",
      "V9         120840 non-null int64\n",
      "V10        120840 non-null int64\n",
      "V11        120840 non-null float64\n",
      "dtypes: float64(14), int64(18), object(1)\n",
      "memory usage: 30.4+ MB\n"
     ]
    }
   ],
   "source": [
    "dataset_test.info()"
   ]
  },
  {
   "cell_type": "code",
   "execution_count": 19,
   "metadata": {},
   "outputs": [],
   "source": [
    "# готовые результаты тестовой выборки\n",
    "dataset_solution=pd.read_csv('solution.csv')"
   ]
  },
  {
   "cell_type": "code",
   "execution_count": 20,
   "metadata": {},
   "outputs": [
    {
     "data": {
      "text/html": [
       "<div>\n",
       "<style scoped>\n",
       "    .dataframe tbody tr th:only-of-type {\n",
       "        vertical-align: middle;\n",
       "    }\n",
       "\n",
       "    .dataframe tbody tr th {\n",
       "        vertical-align: top;\n",
       "    }\n",
       "\n",
       "    .dataframe thead th {\n",
       "        text-align: right;\n",
       "    }\n",
       "</style>\n",
       "<table border=\"1\" class=\"dataframe\">\n",
       "  <thead>\n",
       "    <tr style=\"text-align: right;\">\n",
       "      <th></th>\n",
       "      <th>TrialID</th>\n",
       "      <th>ObsNum</th>\n",
       "      <th>Prediction</th>\n",
       "      <th>Indicator</th>\n",
       "    </tr>\n",
       "  </thead>\n",
       "  <tbody>\n",
       "    <tr>\n",
       "      <th>0</th>\n",
       "      <td>0</td>\n",
       "      <td>0</td>\n",
       "      <td>1</td>\n",
       "      <td>Public</td>\n",
       "    </tr>\n",
       "    <tr>\n",
       "      <th>1</th>\n",
       "      <td>0</td>\n",
       "      <td>1</td>\n",
       "      <td>1</td>\n",
       "      <td>Public</td>\n",
       "    </tr>\n",
       "    <tr>\n",
       "      <th>2</th>\n",
       "      <td>0</td>\n",
       "      <td>2</td>\n",
       "      <td>1</td>\n",
       "      <td>Private</td>\n",
       "    </tr>\n",
       "    <tr>\n",
       "      <th>3</th>\n",
       "      <td>0</td>\n",
       "      <td>3</td>\n",
       "      <td>1</td>\n",
       "      <td>Private</td>\n",
       "    </tr>\n",
       "    <tr>\n",
       "      <th>4</th>\n",
       "      <td>0</td>\n",
       "      <td>4</td>\n",
       "      <td>1</td>\n",
       "      <td>Private</td>\n",
       "    </tr>\n",
       "  </tbody>\n",
       "</table>\n",
       "</div>"
      ],
      "text/plain": [
       "   TrialID  ObsNum  Prediction Indicator\n",
       "0        0       0           1    Public\n",
       "1        0       1           1    Public\n",
       "2        0       2           1   Private\n",
       "3        0       3           1   Private\n",
       "4        0       4           1   Private"
      ]
     },
     "execution_count": 20,
     "metadata": {},
     "output_type": "execute_result"
    }
   ],
   "source": [
    "dataset_solution.head()"
   ]
  },
  {
   "cell_type": "code",
   "execution_count": 21,
   "metadata": {},
   "outputs": [
    {
     "name": "stdout",
     "output_type": "stream",
     "text": [
      "<class 'pandas.core.frame.DataFrame'>\n",
      "RangeIndex: 120840 entries, 0 to 120839\n",
      "Data columns (total 4 columns):\n",
      "TrialID       120840 non-null int64\n",
      "ObsNum        120840 non-null int64\n",
      "Prediction    120840 non-null int64\n",
      "Indicator     120840 non-null object\n",
      "dtypes: int64(3), object(1)\n",
      "memory usage: 3.7+ MB\n"
     ]
    }
   ],
   "source": [
    "dataset_solution. info()"
   ]
  },
  {
   "cell_type": "code",
   "execution_count": 22,
   "metadata": {},
   "outputs": [],
   "source": [
    "dataset_test['IsAlert']=dataset_solution['Prediction']"
   ]
  },
  {
   "cell_type": "code",
   "execution_count": 23,
   "metadata": {},
   "outputs": [
    {
     "data": {
      "text/html": [
       "<div>\n",
       "<style scoped>\n",
       "    .dataframe tbody tr th:only-of-type {\n",
       "        vertical-align: middle;\n",
       "    }\n",
       "\n",
       "    .dataframe tbody tr th {\n",
       "        vertical-align: top;\n",
       "    }\n",
       "\n",
       "    .dataframe thead th {\n",
       "        text-align: right;\n",
       "    }\n",
       "</style>\n",
       "<table border=\"1\" class=\"dataframe\">\n",
       "  <thead>\n",
       "    <tr style=\"text-align: right;\">\n",
       "      <th></th>\n",
       "      <th>TrialID</th>\n",
       "      <th>ObsNum</th>\n",
       "      <th>IsAlert</th>\n",
       "      <th>P1</th>\n",
       "      <th>P2</th>\n",
       "      <th>P3</th>\n",
       "      <th>P4</th>\n",
       "      <th>P5</th>\n",
       "      <th>P6</th>\n",
       "      <th>P7</th>\n",
       "      <th>...</th>\n",
       "      <th>V2</th>\n",
       "      <th>V3</th>\n",
       "      <th>V4</th>\n",
       "      <th>V5</th>\n",
       "      <th>V6</th>\n",
       "      <th>V7</th>\n",
       "      <th>V8</th>\n",
       "      <th>V9</th>\n",
       "      <th>V10</th>\n",
       "      <th>V11</th>\n",
       "    </tr>\n",
       "  </thead>\n",
       "  <tbody>\n",
       "    <tr>\n",
       "      <th>0</th>\n",
       "      <td>0</td>\n",
       "      <td>0</td>\n",
       "      <td>1</td>\n",
       "      <td>38.4294</td>\n",
       "      <td>10.9435</td>\n",
       "      <td>1000</td>\n",
       "      <td>60.0</td>\n",
       "      <td>0.302277</td>\n",
       "      <td>508</td>\n",
       "      <td>118.110</td>\n",
       "      <td>...</td>\n",
       "      <td>0.00</td>\n",
       "      <td>255</td>\n",
       "      <td>4.50625</td>\n",
       "      <td>0</td>\n",
       "      <td>2127</td>\n",
       "      <td>0</td>\n",
       "      <td>17.6</td>\n",
       "      <td>0</td>\n",
       "      <td>4</td>\n",
       "      <td>16.1937</td>\n",
       "    </tr>\n",
       "    <tr>\n",
       "      <th>1</th>\n",
       "      <td>0</td>\n",
       "      <td>1</td>\n",
       "      <td>1</td>\n",
       "      <td>38.3609</td>\n",
       "      <td>15.3212</td>\n",
       "      <td>1000</td>\n",
       "      <td>60.0</td>\n",
       "      <td>0.302277</td>\n",
       "      <td>508</td>\n",
       "      <td>118.110</td>\n",
       "      <td>...</td>\n",
       "      <td>0.00</td>\n",
       "      <td>255</td>\n",
       "      <td>4.50625</td>\n",
       "      <td>0</td>\n",
       "      <td>2127</td>\n",
       "      <td>0</td>\n",
       "      <td>17.6</td>\n",
       "      <td>0</td>\n",
       "      <td>4</td>\n",
       "      <td>16.1744</td>\n",
       "    </tr>\n",
       "    <tr>\n",
       "      <th>2</th>\n",
       "      <td>0</td>\n",
       "      <td>2</td>\n",
       "      <td>1</td>\n",
       "      <td>38.2342</td>\n",
       "      <td>11.5140</td>\n",
       "      <td>1000</td>\n",
       "      <td>60.0</td>\n",
       "      <td>0.302277</td>\n",
       "      <td>508</td>\n",
       "      <td>118.110</td>\n",
       "      <td>...</td>\n",
       "      <td>0.07</td>\n",
       "      <td>255</td>\n",
       "      <td>4.50625</td>\n",
       "      <td>0</td>\n",
       "      <td>2131</td>\n",
       "      <td>0</td>\n",
       "      <td>17.6</td>\n",
       "      <td>0</td>\n",
       "      <td>4</td>\n",
       "      <td>16.1602</td>\n",
       "    </tr>\n",
       "    <tr>\n",
       "      <th>3</th>\n",
       "      <td>0</td>\n",
       "      <td>3</td>\n",
       "      <td>1</td>\n",
       "      <td>37.9304</td>\n",
       "      <td>12.2615</td>\n",
       "      <td>1000</td>\n",
       "      <td>60.0</td>\n",
       "      <td>0.302277</td>\n",
       "      <td>508</td>\n",
       "      <td>118.110</td>\n",
       "      <td>...</td>\n",
       "      <td>0.07</td>\n",
       "      <td>255</td>\n",
       "      <td>4.50625</td>\n",
       "      <td>0</td>\n",
       "      <td>2131</td>\n",
       "      <td>0</td>\n",
       "      <td>17.6</td>\n",
       "      <td>0</td>\n",
       "      <td>4</td>\n",
       "      <td>16.1725</td>\n",
       "    </tr>\n",
       "    <tr>\n",
       "      <th>4</th>\n",
       "      <td>0</td>\n",
       "      <td>4</td>\n",
       "      <td>1</td>\n",
       "      <td>37.8085</td>\n",
       "      <td>12.3666</td>\n",
       "      <td>1000</td>\n",
       "      <td>60.0</td>\n",
       "      <td>0.302277</td>\n",
       "      <td>504</td>\n",
       "      <td>119.048</td>\n",
       "      <td>...</td>\n",
       "      <td>0.00</td>\n",
       "      <td>255</td>\n",
       "      <td>4.50625</td>\n",
       "      <td>0</td>\n",
       "      <td>2136</td>\n",
       "      <td>0</td>\n",
       "      <td>17.6</td>\n",
       "      <td>0</td>\n",
       "      <td>4</td>\n",
       "      <td>16.1459</td>\n",
       "    </tr>\n",
       "  </tbody>\n",
       "</table>\n",
       "<p>5 rows × 33 columns</p>\n",
       "</div>"
      ],
      "text/plain": [
       "   TrialID  ObsNum  IsAlert       P1       P2    P3    P4        P5   P6  \\\n",
       "0        0       0        1  38.4294  10.9435  1000  60.0  0.302277  508   \n",
       "1        0       1        1  38.3609  15.3212  1000  60.0  0.302277  508   \n",
       "2        0       2        1  38.2342  11.5140  1000  60.0  0.302277  508   \n",
       "3        0       3        1  37.9304  12.2615  1000  60.0  0.302277  508   \n",
       "4        0       4        1  37.8085  12.3666  1000  60.0  0.302277  504   \n",
       "\n",
       "        P7  ...    V2   V3       V4  V5    V6  V7    V8  V9  V10      V11  \n",
       "0  118.110  ...  0.00  255  4.50625   0  2127   0  17.6   0    4  16.1937  \n",
       "1  118.110  ...  0.00  255  4.50625   0  2127   0  17.6   0    4  16.1744  \n",
       "2  118.110  ...  0.07  255  4.50625   0  2131   0  17.6   0    4  16.1602  \n",
       "3  118.110  ...  0.07  255  4.50625   0  2131   0  17.6   0    4  16.1725  \n",
       "4  119.048  ...  0.00  255  4.50625   0  2136   0  17.6   0    4  16.1459  \n",
       "\n",
       "[5 rows x 33 columns]"
      ]
     },
     "execution_count": 23,
     "metadata": {},
     "output_type": "execute_result"
    }
   ],
   "source": [
    "dataset_test.head()"
   ]
  },
  {
   "cell_type": "code",
   "execution_count": 24,
   "metadata": {},
   "outputs": [],
   "source": [
    "test_test_data=dataset_test.drop('IsAlert', axis=1)\n",
    "test_test_labels=dataset_test['IsAlert'].values"
   ]
  },
  {
   "cell_type": "markdown",
   "metadata": {},
   "source": [
    "### Оценка модели на тестовой выборке"
   ]
  },
  {
   "cell_type": "code",
   "execution_count": 25,
   "metadata": {},
   "outputs": [
    {
     "data": {
      "text/plain": [
       "0.11890930155577624"
      ]
     },
     "execution_count": 25,
     "metadata": {},
     "output_type": "execute_result"
    }
   ],
   "source": [
    "score_test=metrics.mean_squared_error(test_test_labels, estimator.predict(test_test_data))\n",
    "score_test"
   ]
  },
  {
   "cell_type": "code",
   "execution_count": 26,
   "metadata": {},
   "outputs": [
    {
     "name": "stdout",
     "output_type": "stream",
     "text": [
      "              precision    recall  f1-score   support\n",
      "\n",
      "           0       0.99      0.52      0.69     29914\n",
      "           1       0.86      1.00      0.93     90926\n",
      "\n",
      "    accuracy                           0.88    120840\n",
      "   macro avg       0.93      0.76      0.81    120840\n",
      "weighted avg       0.90      0.88      0.87    120840\n",
      "\n"
     ]
    }
   ],
   "source": [
    "report_test=metrics.classification_report(test_test_labels, estimator.predict(test_test_data))\n",
    "print(report_test)"
   ]
  },
  {
   "cell_type": "code",
   "execution_count": 27,
   "metadata": {},
   "outputs": [
    {
     "data": {
      "text/plain": [
       "array([[15673, 14241],\n",
       "       [  128, 90798]], dtype=int64)"
      ]
     },
     "execution_count": 27,
     "metadata": {},
     "output_type": "execute_result"
    }
   ],
   "source": [
    "score_matrix_test=metrics.confusion_matrix(test_test_labels, estimator.predict(test_test_data))\n",
    "score_matrix_test"
   ]
  },
  {
   "cell_type": "code",
   "execution_count": 28,
   "metadata": {},
   "outputs": [
    {
     "data": {
      "text/plain": [
       "0.8810906984442237"
      ]
     },
     "execution_count": 28,
     "metadata": {},
     "output_type": "execute_result"
    }
   ],
   "source": [
    "score_test_accuracy=metrics.accuracy_score(test_test_labels, estimator.predict(test_test_data))\n",
    "score_test_accuracy"
   ]
  },
  {
   "cell_type": "markdown",
   "metadata": {},
   "source": [
    "Поскольку для конкретной задачи важнее, чтобы алгоритм правильно находил класс '1', то полученный результат можно считать хорошим."
   ]
  },
  {
   "cell_type": "code",
   "execution_count": 29,
   "metadata": {},
   "outputs": [],
   "source": [
    "predictions=pd.DataFrame(estimator.predict(test_test_data))\n",
    "predictions.columns=['Prediction']\n",
    "predictions['TrialID']=dataset_solution['TrialID']\n",
    "predictions['ObsNum']=dataset_solution['ObsNum']"
   ]
  },
  {
   "cell_type": "code",
   "execution_count": 30,
   "metadata": {},
   "outputs": [],
   "source": [
    "predictions.to_csv('predictions.csv')"
   ]
  }
 ],
 "metadata": {
  "kernelspec": {
   "display_name": "Python 3",
   "language": "python",
   "name": "python3"
  },
  "language_info": {
   "codemirror_mode": {
    "name": "ipython",
    "version": 3
   },
   "file_extension": ".py",
   "mimetype": "text/x-python",
   "name": "python",
   "nbconvert_exporter": "python",
   "pygments_lexer": "ipython3",
   "version": "3.7.0"
  }
 },
 "nbformat": 4,
 "nbformat_minor": 2
}
